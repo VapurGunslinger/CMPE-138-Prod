// Is used to show the price change of a specific item in a given time period 
#1
// optimised
SELECT 
  item_name,date,value,area_name
FROM
  `bigquery-public-data.bls.cpi_u`
WHERE
  item_name = 'Tobacco and smoking products'
  AND date >= '2020-01-01'
  AND date <= '2021-12-31'
QUALIFY
  ROW_NUMBER() OVER (PARTITION BY date ORDER BY value DESC) = 1
ORDER BY
  date ASC

//unoptimized

  SELECT
    item_name,
    date,
    value,
    area_name
  FROM
    `bigquery-public-data.bls.cpi_u`
  WHERE
    date BETWEEN '2020-01-01' AND '2021-12-31'
  QUALIFY ROW_NUMBER() OVER (
    PARTITION BY item_name, date
    ORDER BY value DESC
  ) = 1
  ORDER BY
    item_name,
    date ASC;

#2
// Gives the highest values of items in a given year. It looks through all cities
// Fixed this works as I wanted it to. 

// Optimised
  SELECT item_name, value,  area_name, date
  FROM `bigquery-public-data.bls.cpi_u`
  WHERE year = 2020
  QUALIFY ROW_NUMBER() OVER (PARTITION BY item_name ORDER BY value DESC) = 1
  ORDER BY value DESC
  LIMIT 10



// Unoptimised 
  SELECT item_name, value, area_name, date
  FROM (
    SELECT item_name, value, area_name, date,ROW_NUMBER() OVER (PARTITION BY item_name ORDER BY value DESC) AS rn
    FROM `bigquery-public-data.bls.cpi_u`
    WHERE  year = 2020
  )
  WHERE rn = 1
  ORDER BY value DESC
  LIMIT 10

// Comparing the inflation of a specific item across two different cities 
// Query 3

SELECT year,item_name,area_name, AVG(value) AS avg_price_index
FROM `bigquery-public-data.bls.cpi_u`
WHERE item_name = "Food and beverages"
  AND area_name IN (
    "San Francisco-Oakland-Hayward, CA",
    "New York-Newark-Jersey City, NY-NJ-PA"
  )
GROUP BY year, item_name, area_name
ORDER BY year, item_name, area_name;

// Query 4
// Looks for items that have had a net decress in cost over a given time period
WITH yearly_avg AS (
  SELECT item_name, year, AVG(value) AS avg_value
  FROM `bigquery-public-data.bls.cpi_u`
  WHERE year IN (2011, 2021)  #inserting the available 10 years from the data
  GROUP BY item_name, year ),

pivoted AS (
  SELECT item_name,
    MAX(CASE WHEN year = 2011 THEN avg_value END) AS value_2011,
    MAX(CASE WHEN year = 2021 THEN avg_value END) AS value_2021
  FROM yearly_avg
  GROUP By item_name )

   SELECT item_name, value_2011, value_2021,
   ROUND(value_2021 - value_2011, 2) AS net_change
   FROM pivoted 
   WHERE value_2021 < value_2011  #Net decrease
   ORDER BY net_change ASC
   LIMIT 10; #Showing top 10



