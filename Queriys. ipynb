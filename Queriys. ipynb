// Just to look at certain employment rates for a given field and demographics of the people

SELECT  total_employed_in_thousands, percent_asian, year

FROM `bigquery-public-data.bls.cpsaat18` 

WHERE sector = "Agriculture, forestry, fishing, and hunting"  and year <= 2022 

// Gives the highest values of items in a given year and city 
// Ps. Not currently correct. Help welcomed 
SELECT value, item_name, area_name

FROM `bigquery-public-data.bls.cpi_u`

Where area_code ='0' and year = 2020

Group By item_name , area_name, value

limit 10

