// Is used to show the price change of a specific item in a given time period 
#1
// optimised
SELECT 
  item_name,date,value,area_name
FROM
  `bigquery-public-data.bls.cpi_u`
WHERE
  item_name = 'Tobacco and smoking products'
  AND date >= '2020-01-01'
  AND date <= '2021-12-31'
QUALIFY
  ROW_NUMBER() OVER (PARTITION BY date ORDER BY value DESC) = 1
ORDER BY
  date ASC

//unoptimized

  SELECT
    item_name,
    date,
    value,
    area_name
  FROM
    `bigquery-public-data.bls.cpi_u`
  WHERE
    date BETWEEN '2020-01-01' AND '2021-12-31'
  QUALIFY ROW_NUMBER() OVER (
    PARTITION BY item_name, date
    ORDER BY value DESC
  ) = 1
  ORDER BY
    item_name,
    date ASC;

#2
// Gives the highest values of items in a given year. It looks through all cities
// Fixed this works as I wanted it to. 

// Optimised
  SELECT item_name, value,  area_name, date
  FROM `bigquery-public-data.bls.cpi_u`
  WHERE year = 2020
  QUALIFY ROW_NUMBER() OVER (PARTITION BY item_name ORDER BY value DESC) = 1
  ORDER BY value DESC
  LIMIT 10



// Unoptimised 
  SELECT item_name, value, area_name, date
  FROM (
    SELECT item_name, value, area_name, date,ROW_NUMBER() OVER (PARTITION BY item_name ORDER BY value DESC) AS rn
    FROM `bigquery-public-data.bls.cpi_u`
    WHERE  year = 2020
  )
  WHERE rn = 1
  ORDER BY value DESC
  LIMIT 10


//Compare Up to 20 Grocery-Related Items Across Two Cities
//3

  SELECT year,item_name,area_name,AVG(value) AS avg_price_index
  FROM `bigquery-public-data.bls.cpi_u`
  WHERE
    LOWER(item_name) LIKE '%food%'
    AND area_name IN (
      "San Francisco-Oakland-Hayward, CA",
      "New York-Newark-Jersey City, NY-NJ-PA"
    )
  GROUP BY year, item_name, area_name
  ORDER BY year, area_name, item_name
  LIMIT 20;




