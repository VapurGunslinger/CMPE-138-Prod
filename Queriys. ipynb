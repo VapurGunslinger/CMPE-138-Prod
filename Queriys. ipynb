// Just to look at certain employment rates for a given field and demographics of the people

SELECT  total_employed_in_thousands, percent_asian, year

FROM `bigquery-public-data.bls.cpsaat18` 

WHERE sector = "Agriculture, forestry, fishing, and hunting"  and year <= 2022 

// 


