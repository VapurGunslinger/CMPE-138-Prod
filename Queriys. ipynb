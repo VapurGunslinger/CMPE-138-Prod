// Just to look at certain employment rates for a given field and demographics of the people

SELECT  total_employed_in_thousands, percent_asian, year
FROM `bigquery-public-data.bls.cpsaat18` 
WHERE sector = "Agriculture, forestry, fishing, and hunting"  and year <= 2022 

// Gives the highest values of items in a given year. It looks through all cities
// Fixed this works as I wanted it to. 
SELECT item_name, value, area_name, date
FROM (
  SELECT *,
         ROW_NUMBER() OVER (PARTITION BY item_name ORDER BY value DESC) AS rn
  FROM `bigquery-public-data.bls.cpi_u`
  WHERE  year = 2020
)
WHERE rn = 1
ORDER BY value DESC
LIMIT 10

//Compare Up to 20 Grocery-Related Items Across Two Cities
//3

SELECT year,item_name,area_name,AVG(value) AS avg_price_index
FROM `bigquery-public-data.bls.cpi_u`
WHERE
  LOWER(item_name) LIKE '%food%'
  AND area_name IN (
    "San Francisco-Oakland-Hayward, CA",
    "New York-Newark-Jersey City, NY-NJ-PA"
  )
GROUP BY year, item_name, area_name
ORDER BY year, area_name, item_name
LIMIT 20;

// For seeing the trend of an item in a given year. Example is tobacco products. 

SELECT   item_name, value, area_name, date
FROM `bigquery-public-data.bls.cpi_u`
Where item_name= 'Tobacco and smoking products' and year = 2020
ORDER By date


