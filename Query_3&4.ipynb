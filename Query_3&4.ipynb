// Comparing the inflation of a specific item across two different cities 
// Query 3

SELECT year,item_name,area_name, AVG(value) AS avg_price_index
FROM `bigquery-public-data.bls.cpi_u`
WHERE item_name = "Food and beverages"
  AND area_name IN (
    "San Francisco-Oakland-Hayward, CA",
    "New York-Newark-Jersey City, NY-NJ-PA"
  )
GROUP BY year, item_name, area_name
ORDER BY year, item_name, area_name;
